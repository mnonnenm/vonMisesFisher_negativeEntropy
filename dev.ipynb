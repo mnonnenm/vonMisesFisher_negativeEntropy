{
 "cells": [
  {
   "cell_type": "code",
   "execution_count": null,
   "id": "df05de85",
   "metadata": {},
   "outputs": [],
   "source": [
    "import numpy as np\n",
    "from negentropy import Ψ, gradΨ, hessΨ\n",
    "D = 2\n",
    "\n",
    "μ = np.outer(np.linspace(0.1, 0.9, 5), np.array([1,1])/np.sqrt(2))\n",
    "\n",
    "Ψ(μ), gradΨ(μ), hessΨ(μ)"
   ]
  },
  {
   "cell_type": "code",
   "execution_count": null,
   "id": "a43bc2c8",
   "metadata": {},
   "outputs": [],
   "source": []
  }
 ],
 "metadata": {
  "kernelspec": {
   "display_name": "Python 3 (ipykernel)",
   "language": "python",
   "name": "python3"
  },
  "language_info": {
   "codemirror_mode": {
    "name": "ipython",
    "version": 3
   },
   "file_extension": ".py",
   "mimetype": "text/x-python",
   "name": "python",
   "nbconvert_exporter": "python",
   "pygments_lexer": "ipython3",
   "version": "3.9.12"
  }
 },
 "nbformat": 4,
 "nbformat_minor": 5
}
